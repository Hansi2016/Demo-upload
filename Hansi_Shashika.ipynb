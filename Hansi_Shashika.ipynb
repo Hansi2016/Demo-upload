{
  "nbformat": 4,
  "nbformat_minor": 0,
  "metadata": {
    "colab": {
      "name": "Hansi Shashika",
      "provenance": []
    },
    "kernelspec": {
      "name": "python3",
      "display_name": "Python 3"
    },
    "language_info": {
      "name": "python"
    }
  },
  "cells": [
    {
      "cell_type": "code",
      "metadata": {
        "colab": {
          "base_uri": "https://localhost:8080/"
        },
        "id": "_CzWcdl2LOGF",
        "outputId": "20752fa9-15ce-4e1b-89a5-1e1d4eb067fe"
      },
      "source": [
        "!pip install keras-tuner\n",
        "\n",
        "import tensorflow as tf\n",
        "from tensorflow import keras\n",
        "import numpy as np\n",
        "\n",
        "fashion_mnist=keras.datasets.fashion_mnist\n",
        "\n",
        "(train_images,train_labels),(test_images,test_labels)=fashion_mnist.load_data()\n",
        "\n",
        "train_images=train_images/255.0\n",
        "test_images=test_images/255.0\n",
        "\n",
        "train_images[0].shape\n",
        "\n",
        "train_images = train_images.reshape(len(train_images),28,28,1)\n",
        "test_images = test_images.reshape(len(test_images),28,28,1)\n",
        "\n",
        "def build_model(hp):\n",
        " model = keras.Sequential([keras.layers.Conv2D(\n",
        "filters=hp.Int('conv_1_filter', min_value=32, max_value=128, step=16),\n",
        " \n",
        "kernel_size=hp.Choice('conv_1_kernel', values = [3,5]),\n",
        " \n",
        "activation='relu',\n",
        "input_shape=(28,28,1)\n",
        "),\n",
        "\n",
        "\n",
        "keras.layers.Conv2D(\n",
        " filters=hp.Int('conv_2_filter', min_value=32, max_value=64, step=16),\n",
        "\n",
        " kernel_size=hp.Choice('conv_2_kernel', values = [3,5]),\n",
        " activation='relu'\n",
        " ),\n",
        "\n",
        " keras.layers.Flatten(),\n",
        " keras.layers.Dense(\n",
        " units=hp.Int('dense_1_units', min_value=32, max_value=128, step=16\n",
        "),\n",
        "\n",
        " activation='relu'\n",
        " ),\n",
        " keras.layers.Dense(10, activation='softmax')#output layer\n",
        "])\n",
        " \n",
        " model.compile(optimizer=keras.optimizers.Adam(hp.Choice('learning_rate',\n",
        "values=[1e-2, 1e-3])),\n",
        " loss='sparse_categorical_crossentropy',\n",
        " metrics=['accuracy'])\n",
        "\n",
        " return model\n",
        "\n",
        "from kerastuner import RandomSearch\n",
        "from kerastuner.engine.hyperparameters import HyperParameters\n",
        "\n",
        "tuner_search=RandomSearch(build_model,\n",
        " objective='val_accuracy',\n",
        " max_trials=5,directory='output',project_name=\"Mnist Fashion\")\n",
        "\n",
        "tuner_search.search(train_images,train_labels,epochs=3,validation_split=0.1)\n",
        "\n",
        "model=tuner_search.get_best_models(num_models=1)[0]\n",
        "\n",
        "model.summary()"
      ],
      "execution_count": null,
      "outputs": [
        {
          "output_type": "stream",
          "text": [
            "Trial 1 Complete [00h 14m 08s]\n",
            "val_accuracy: 0.9003333449363708\n",
            "\n",
            "Best val_accuracy So Far: 0.9003333449363708\n",
            "Total elapsed time: 00h 14m 08s\n",
            "\n",
            "Search: Running Trial #2\n",
            "\n",
            "Hyperparameter    |Value             |Best Value So Far \n",
            "conv_1_filter     |80                |112               \n",
            "conv_1_kernel     |3                 |5                 \n",
            "conv_2_filter     |32                |64                \n",
            "conv_2_kernel     |5                 |3                 \n",
            "dense_1_units     |80                |48                \n",
            "learning_rate     |0.001             |0.001             \n",
            "\n",
            "Epoch 1/3\n",
            "1688/1688 [==============================] - 352s 208ms/step - loss: 0.4074 - accuracy: 0.8538 - val_loss: 0.3067 - val_accuracy: 0.8858\n",
            "Epoch 2/3\n",
            "1688/1688 [==============================] - 350s 207ms/step - loss: 0.2588 - accuracy: 0.9044 - val_loss: 0.2699 - val_accuracy: 0.9000\n",
            "Epoch 3/3\n",
            "1525/1688 [==========================>...] - ETA: 33s - loss: 0.2005 - accuracy: 0.9242"
          ],
          "name": "stdout"
        }
      ]
    },
    {
      "cell_type": "markdown",
      "metadata": {
        "id": "-B0RUX_nXEHs"
      },
      "source": [
        ""
      ]
    }
  ]
}